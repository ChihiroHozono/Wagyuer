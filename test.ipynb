{
 "cells": [
  {
   "cell_type": "code",
   "execution_count": 13,
   "metadata": {},
   "outputs": [],
   "source": [
    "from PIL import Image\n",
    "import sys\n",
    "import re\n",
    "import pyocr\n",
    "import pyocr.builders\n",
    "import requests\n",
    "import chromedriver_binary\n",
    "from selenium import webdriver\n",
    "from selenium.webdriver.chrome.options import Options  # オプションを使うために必要\n",
    "\n",
    "\n",
    "img_path = \"/Users/Chihiro/Personal/10_Projects/Wagyuer/Images/20200523_151941.jpg\"\n",
    "tools = pyocr.get_available_tools()\n",
    "tool = tools[0]\n",
    "\n",
    "\n",
    "# text detection\n",
    "txt = tool.image_to_string(\n",
    "    Image.open(img_path),\n",
    "    lang=\"jpn\",\n",
    "    builder=pyocr.builders.TextBuilder(tesseract_layout=6),\n",
    ")\n",
    "\n",
    "# get indiviual id\n",
    "regex = re.compile(\"\\d{10}\")\n",
    "match = regex.findall(txt)\n",
    "if match:\n",
    "    indiviual_id = match[0]\n",
    "\n",
    "# get wagyu info\n",
    "option = Options()  # オプションを用意\n",
    "option.add_argument(\"--headless\")  # ヘッドレスモードの設定を付与\n",
    "driver_path = \"./modules/chromedriver\"\n",
    "driver = webdriver.Chrome(executable_path=driver_path, options=option)\n",
    "# driver = webdriver.Chrome(executable_path=driver_path)\n",
    "\n",
    "url = \"https://www.id.nlbc.go.jp/top.html?pc\"\n",
    "\n",
    "\n",
    "driver.get(url)\n",
    "driver.find_element_by_class_name(\"nlbc_button_search\").click()\n",
    "for window in driver.window_handles:\n",
    "    driver.switch_to.window(window)\n",
    "    if driver.title == \"nlbcstyle\":\n",
    "        break"
   ]
  },
  {
   "cell_type": "code",
   "execution_count": 14,
   "metadata": {},
   "outputs": [],
   "source": [
    "driver.find_element_by_xpath(\n",
    "\"/html/body/div/table[1]/tbody/tr[3]/td[2]/table/tbody/tr[2]/td[2]/table/tbody/tr[4]/td[2]/div/div[2]/table/tbody/tr/td[1]/input\"\n",
    ").click()\n",
    "driver.find_element_by_name(\"txtIDNO\").send_keys(indiviual_id)\n",
    "driver.find_element_by_xpath(\n",
    "\"/html/body/div/table[1]/tbody/tr[3]/td[2]/table/tbody/tr[2]/td[2]/table/tbody/tr[1]/td[3]/form/table/tbody/tr[2]/td/input[2]\"\n",
    ").click()"
   ]
  },
  {
   "cell_type": "code",
   "execution_count": 21,
   "metadata": {},
   "outputs": [
    {
     "name": "stdout",
     "output_type": "stream",
     "text": [
      "個体識別番号 1556990418\n",
      "出生の年月日 2017.09.03\n",
      "雌雄の別 去勢（雄）\n",
      "母牛の個体識別番号 1337888231\n",
      "種別 黒毛和種\n"
     ]
    }
   ],
   "source": [
    "indiviual_table = driver.find_element_by_xpath(\n",
    "\"/html/body/div/table[1]/tbody/tr[3]/td[2]/table/tbody/tr[2]/td[2]/table/tbody/tr[3]/td[2]/table/tbody/tr/td/span/table[1]\"\n",
    ")\n",
    "ths = indiviual_table.find_elements_by_tag_name(\"th\")\n",
    "tds = indiviual_table.find_elements_by_tag_name(\"td\")\n",
    "for th,td in zip(ths, tds):\n",
    "    print(th.text, td.text)"
   ]
  },
  {
   "cell_type": "code",
   "execution_count": 23,
   "metadata": {},
   "outputs": [],
   "source": [
    "moving_info = driver.find_element_by_xpath(\n",
    "\"/html/body/div/table[1]/tbody/tr[3]/td[2]/table/tbody/tr[2]/td[2]/table/tbody/tr[3]/td[2]/table/tbody/tr/td/span/table[2]\"\n",
    ")\n",
    "trs = moving_info.find_elements_by_tag_name(\"tr\")\n",
    "for tr in trs:\n",
    "    tds = tr.find_elements_by_tag_name(\"td\")\n",
    "    for td in tds:\n",
    "        print(td.text)"
   ]
  },
  {
   "cell_type": "code",
   "execution_count": null,
   "metadata": {},
   "outputs": [],
   "source": []
  },
  {
   "cell_type": "code",
   "execution_count": null,
   "metadata": {},
   "outputs": [],
   "source": []
  },
  {
   "cell_type": "code",
   "execution_count": 7,
   "metadata": {},
   "outputs": [],
   "source": [
    "driver.quit()"
   ]
  }
 ],
 "metadata": {
  "kernelspec": {
   "display_name": "Python 3.7.2 64-bit ('anaconda3-5.3.1': conda)",
   "language": "python",
   "name": "python37264bitanaconda3531condaa89e801032144e98b46a2dbcbb5560b0"
  },
  "language_info": {
   "codemirror_mode": {
    "name": "ipython",
    "version": 3
   },
   "file_extension": ".py",
   "mimetype": "text/x-python",
   "name": "python",
   "nbconvert_exporter": "python",
   "pygments_lexer": "ipython3",
   "version": "3.7.2"
  }
 },
 "nbformat": 4,
 "nbformat_minor": 2
}
